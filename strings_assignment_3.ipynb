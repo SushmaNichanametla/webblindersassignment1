{
  "nbformat": 4,
  "nbformat_minor": 0,
  "metadata": {
    "colab": {
      "provenance": []
    },
    "kernelspec": {
      "name": "python3",
      "display_name": "Python 3"
    },
    "language_info": {
      "name": "python"
    }
  },
  "cells": [
    {
      "cell_type": "markdown",
      "source": [
        "1.Write a Python program to count the number of vowels in a string.\n",
        "\n",
        "input : hasdfgeuionhjl"
      ],
      "metadata": {
        "id": "q8RkYTES1QUW"
      }
    },
    {
      "cell_type": "code",
      "source": [
        "string='hasdfgeuionhjl'\n",
        "vowels='aeiouAEIOU'\n",
        "print(sum(string.count(vowel) for vowel in vowels))# write your code here"
      ],
      "metadata": {
        "id": "UHi6ezjV1X0s"
      },
      "execution_count": null,
      "outputs": []
    },
    {
      "cell_type": "markdown",
      "source": [
        "2.Write a Python program to count the occurrences of each word in a sentence.\n",
        "\n",
        "input : hi hello hi and and hi more and more programming"
      ],
      "metadata": {
        "id": "v7GBEK161QWy"
      }
    },
    {
      "cell_type": "code",
      "source": [
        "# write your code here\n",
        "input='hi hello hi and and hi more and more programming'\n",
        "print(len(input))\n",
        "words=input.split()\n",
        "word_count={}\n",
        "for word in words:\n",
        "  word_count[word]=word_count.get(word,0)+1\n",
        "print(word_count)"
      ],
      "metadata": {
        "id": "R-UzDybK1uZo",
        "colab": {
          "base_uri": "https://localhost:8080/"
        },
        "outputId": "a624e1c5-21fd-4c4d-8885-2d9bbc4cd2f5"
      },
      "execution_count": 3,
      "outputs": [
        {
          "output_type": "stream",
          "name": "stdout",
          "text": [
            "48\n",
            "{'hi': 3, 'hello': 1, 'and': 3, 'more': 2, 'programming': 1}\n"
          ]
        }
      ]
    },
    {
      "cell_type": "markdown",
      "source": [
        "3.In python how can you differentiate strings and lists. Give atleast 5 different comparisons between them."
      ],
      "metadata": {
        "id": "evCcw-0H1QY9"
      }
    },
    {
      "cell_type": "markdown",
      "source": [
        "Answer:\n",
        "\n",
        "1.Strings are immutable which means they cannot be changes while lists are mutable which can be modified as needed.\n",
        "\n",
        "2.Strings in Python are sequences of characters enclosed in quotes. Lists are ordered collections of items enclosed in square brackets [].\n",
        "\n",
        "3.Strings can be indexed and sliced to access individual characters or substrings, while lists can be accessed using indices to retrieve or modify elements.\n",
        "\n",
        "4.A string can only contain characters, while a list can contain various data types like integers, floats, booleans, and even other lists within it.\n",
        "\n",
        "5.Both strings and lists are iterable objects in Python, allowing for easy iteration over their elements using loops or comprehension techniques.\n",
        "\n"
      ],
      "metadata": {
        "id": "OfiTI0pv1QbU"
      }
    },
    {
      "cell_type": "markdown",
      "source": [
        "4.Write a string for your own of approximately 40 in length and perform any 5 different string operations on that."
      ],
      "metadata": {
        "id": "riR1PWxG1Qdq"
      }
    },
    {
      "cell_type": "code",
      "source": [
        "#Write your code here\n",
        "s='Python is a versatile programming language.'\n",
        "#length of string\n",
        "print(len(s))\n",
        "#reverse a string\n",
        "print(s[::-1])\n",
        "#concatenate a string\n",
        "print(s[20:29])\n",
        "#to Upper case\n",
        "print(s.upper())\n",
        "#to lower case\n",
        "print(s.lower())"
      ],
      "metadata": {
        "id": "3bHyrDS12e8i",
        "colab": {
          "base_uri": "https://localhost:8080/"
        },
        "outputId": "d7f79839-329d-4280-e7d7-b1c378680614"
      },
      "execution_count": 7,
      "outputs": [
        {
          "output_type": "stream",
          "name": "stdout",
          "text": [
            "43\n",
            ".egaugnal gnimmargorp elitasrev a si nohtyP\n",
            "e program\n",
            "PYTHON IS A VERSATILE PROGRAMMING LANGUAGE.\n",
            "python is a versatile programming language.\n"
          ]
        }
      ]
    },
    {
      "cell_type": "markdown",
      "source": [
        "5.Explain the concatination in strings with a neat example."
      ],
      "metadata": {
        "id": "bbUm7VVN1Qfu"
      }
    },
    {
      "cell_type": "code",
      "source": [
        "#write your code and explanation here\n",
        "s1=\"Hello\"\n",
        "s2=\"World\"\n",
        "print(s1+\" \"+s2)\n",
        "\n",
        "#formatted string\n",
        "s1 = \"Python\"\n",
        "s2 = \"programming\"\n",
        "print(f\"{s1} is a popular language for {s2}\")"
      ],
      "metadata": {
        "id": "y9292Q452tF0",
        "colab": {
          "base_uri": "https://localhost:8080/"
        },
        "outputId": "bacae398-6086-490b-ab13-9fe2090774d3"
      },
      "execution_count": 10,
      "outputs": [
        {
          "output_type": "stream",
          "name": "stdout",
          "text": [
            "Hello World\n",
            "Python is a popular language for programming\n"
          ]
        }
      ]
    },
    {
      "cell_type": "code",
      "source": [],
      "metadata": {
        "id": "vnMNtJgq2xuG"
      },
      "execution_count": null,
      "outputs": []
    }
  ]
}