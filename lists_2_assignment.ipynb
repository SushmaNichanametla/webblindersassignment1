{
  "nbformat": 4,
  "nbformat_minor": 0,
  "metadata": {
    "colab": {
      "provenance": []
    },
    "kernelspec": {
      "name": "python3",
      "display_name": "Python 3"
    },
    "language_info": {
      "name": "python"
    }
  },
  "cells": [
    {
      "cell_type": "markdown",
      "source": [
        "1.Remove empty strings from the list1 of strings\n",
        "\n",
        "list1 = [\"Mike\", \" \", \"Emma\", \"Kelly\", \" \", \"Brad\"]\n",
        "\n",
        "\n"
      ],
      "metadata": {
        "id": "2caz_EPd5ui9"
      }
    },
    {
      "cell_type": "code",
      "source": [
        "list1=[\"Mike\",\"\",\"Emma\",\"Kelly\",\"\",\"Brad\"]\n",
        "list1=[x for x in list1 if x.strip()]\n",
        "print(list1)# write your code here"
      ],
      "metadata": {
        "id": "Q1BAsluP59Zu",
        "colab": {
          "base_uri": "https://localhost:8080/"
        },
        "outputId": "9c4e3596-4cbb-4df8-c03f-a6c878e9ddaf"
      },
      "execution_count": 2,
      "outputs": [
        {
          "output_type": "stream",
          "name": "stdout",
          "text": [
            "['Mike', 'Emma', 'Kelly', 'Brad']\n"
          ]
        }
      ]
    },
    {
      "cell_type": "markdown",
      "source": [
        "2.Write a program to add item 7000 after 6000 in the following Python List\n",
        "\n",
        "list1 = [10, 20, [300, 400, [5000, 6000], 500], 30, 40]\n",
        "\n",
        "expected o/p ; [10, 20, [300, 400, [5000, 6000, 7000], 500], 30, 40]"
      ],
      "metadata": {
        "id": "dy5zj1nH6EeC"
      }
    },
    {
      "cell_type": "code",
      "source": [
        "list2 = [10, 20, [300, 400, [5000, 6000], 500], 30, 40]\n",
        "list2[2][2].insert(2,7000)\n",
        "print(list2)"
      ],
      "metadata": {
        "id": "NvOK7zjS6Ypm",
        "colab": {
          "base_uri": "https://localhost:8080/"
        },
        "outputId": "b645dd95-6acc-483f-c70a-c33c480f2388"
      },
      "execution_count": 4,
      "outputs": [
        {
          "output_type": "stream",
          "name": "stdout",
          "text": [
            "[10, 20, [300, 400, [5000, 6000, 7000], 500], 30, 40]\n"
          ]
        }
      ]
    },
    {
      "cell_type": "markdown",
      "source": [
        "3.You have given a Python list. Write a program to find value 20 in the list, and if it is present, replace it with 200. Only update the first occurrence of an item.\n",
        "\n",
        "list1 = [5, 10, 15, 20, 25, 50, 20]\n",
        "\n",
        "Expected output:\n",
        "[5, 10, 15, 200, 25, 50, 20]"
      ],
      "metadata": {
        "id": "eKYYcluk6EoM"
      }
    },
    {
      "cell_type": "code",
      "source": [
        "list3 = [5, 10, 15, 20, 25, 50, 20]#write your code here\n",
        "index=list2.index(20)\n",
        "list3[index]=200\n",
        "print(list3)"
      ],
      "metadata": {
        "id": "Rr8oqp1k6vOX",
        "colab": {
          "base_uri": "https://localhost:8080/"
        },
        "outputId": "532b9627-ff99-43dc-a7d5-0f5b9b5ebec6"
      },
      "execution_count": 5,
      "outputs": [
        {
          "output_type": "stream",
          "name": "stdout",
          "text": [
            "[5, 200, 15, 20, 25, 50, 20]\n"
          ]
        }
      ]
    },
    {
      "cell_type": "markdown",
      "source": [
        "4.Remove all occurrences of a specific item from a list.\n",
        "Given a Python list, write a program to remove all occurrences of item 20.\n",
        "\n",
        "list1 = [5, 20, 15, 20, 25, 50, 20]\n",
        "\n",
        "Expected output:\n",
        "\n",
        "[5, 15, 25, 50]"
      ],
      "metadata": {
        "id": "JbJhbXS46Eyn"
      }
    },
    {
      "cell_type": "code",
      "source": [
        "list4 = [5, 20, 15, 20, 25, 50, 20]# write your code here\n",
        "list4=[x for x in list4 if x!=20]\n",
        "print(list4)"
      ],
      "metadata": {
        "id": "391fvowJ7DIs",
        "colab": {
          "base_uri": "https://localhost:8080/"
        },
        "outputId": "a0a35f73-3b1d-4f44-a484-c351740a8c20"
      },
      "execution_count": 7,
      "outputs": [
        {
          "output_type": "stream",
          "name": "stdout",
          "text": [
            "[5, 15, 25, 50]\n"
          ]
        }
      ]
    },
    {
      "cell_type": "markdown",
      "source": [
        "5.Concatenate two lists in the following order\n",
        "\n",
        "list1 = [\"Hello \", \"take \"]\n",
        "\n",
        "list2 = [\"Dear\", \"Sir\"]\n",
        "\n",
        "Expected output:\n",
        "\n",
        "['Hello Dear', 'Hello Sir', 'take Dear', 'take Sir']"
      ],
      "metadata": {
        "id": "7wpuDD3R6E7g"
      }
    },
    {
      "cell_type": "code",
      "source": [
        "list5 = [\"Hello \", \"take \"]\n",
        "list6 = [\"Dear\", \"Sir\"]\n",
        "res= [x + y for x in list5 for y in list6]\n",
        "print(res)# write your code here"
      ],
      "metadata": {
        "id": "OAEqzjHy7b-h",
        "colab": {
          "base_uri": "https://localhost:8080/"
        },
        "outputId": "2fda8490-6f20-4ce4-f965-e2a486833f97"
      },
      "execution_count": 6,
      "outputs": [
        {
          "output_type": "stream",
          "name": "stdout",
          "text": [
            "['Hello Dear', 'Hello Sir', 'take Dear', 'take Sir']\n"
          ]
        }
      ]
    }
  ]
}